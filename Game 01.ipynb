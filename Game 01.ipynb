{
 "cells": [
  {
   "cell_type": "markdown",
   "metadata": {},
   "source": [
    "# Robôs \n",
    "\n",
    "A matriz vai de 0x0 até 10x10"
   ]
  },
  {
   "cell_type": "code",
   "execution_count": 708,
   "metadata": {},
   "outputs": [],
   "source": [
    "class Point(object):\n",
    "    \n",
    "    def __init__(self, x, y):\n",
    "        self.x = x\n",
    "        self.y = y        \n",
    "             \n",
    "    def __str__(self):\n",
    "        return '<X: {}, Y: {}>'.format(self.x, self.y)\n",
    "        #return '<%s, %s>: %s' % (self.x, self.y, self.name)"
   ]
  },
  {
   "cell_type": "code",
   "execution_count": 709,
   "metadata": {},
   "outputs": [],
   "source": [
    "class Reward(Point):\n",
    "    \n",
    "    def __init__(self, x, y, name):\n",
    "        super (Reward, self).__init__(x, y)\n",
    "        self.name = name\n",
    "        \n",
    "    def __str__(self):\n",
    "        return '<X: {}, Y: {}:  Name {}'.format(self.x, self.y. self.name)\n",
    "        #return '<%s, %s>: %s' % (self.x, self.y, self.name)"
   ]
  },
  {
   "cell_type": "code",
   "execution_count": 710,
   "metadata": {},
   "outputs": [],
   "source": [
    "class Robo(Point):\n",
    "    \n",
    "    def __init__(self, x, y):\n",
    "        super (Robo, self).__init__(x, y)\n",
    "    \n",
    "    def move_up(self):\n",
    "        if self.y < 10:\n",
    "            self.y = self.y + 1\n",
    "            print('y: {}\\n x: {}'.format(self.y, self.x))\n",
    "            return Check_reward(r1, rewards)\n",
    "        else:\n",
    "            print('Movimento proibido!') \n",
    "            print('y: {}\\n x: {}'.format(self.y, self.x))\n",
    "            \n",
    "    def move_down(self):\n",
    "        if self.y > 0:\n",
    "            self.y = self.y - 1\n",
    "            print('y: {}\\n x: {}'.format(self.y, self.x))\n",
    "            return Check_reward(r1, rewards)\n",
    "        else:\n",
    "            print('Movimento proibido!')\n",
    "            print('y: {}\\n x: {}'.format(self.y, self.x))\n",
    "        \n",
    "    def move_left(self):\n",
    "        if self.x > 0:\n",
    "            self.x = self.x - 1\n",
    "            print('y: {}\\n x: {}'.format(self.y, self.x))\n",
    "            return Check_reward(r1, rewards)\n",
    "        else:\n",
    "            print('Movimento proibido!')\n",
    "            print('y: {}\\n x: {}'.format(self.y, self.x))\n",
    "            \n",
    "    def move_right(self):\n",
    "        if self.x < 10:\n",
    "            self.x = self.x + 1\n",
    "            print('y: {}\\n x: {}'.format(self.y, self.x))\n",
    "            return Check_reward(r1, rewards)\n",
    "        else:\n",
    "            print('Movimento proibido!')\n",
    "            print('y: {}\\n x: {}'.format(self.y, self.x))"
   ]
  },
  {
   "cell_type": "code",
   "execution_count": 711,
   "metadata": {},
   "outputs": [],
   "source": [
    "def Check_reward(robot, rewards):\n",
    "    achou = False\n",
    "    for reward in rewards:\n",
    "        if reward.x == r1.x and reward.y == r1.y:\n",
    "            print('Achou um prêmio, {}'.format(reward.name))\n",
    "            achou = True\n",
    "        else:\n",
    "            return achou\n",
    "    return achou"
   ]
  },
  {
   "cell_type": "code",
   "execution_count": 712,
   "metadata": {},
   "outputs": [],
   "source": [
    "import random\n",
    "\n",
    "reward1 = Reward(random.randint(0, 10), random.randint(0, 10), 'Arma')\n",
    "reward5 = Reward(random.randint(0, 10), random.randint(0, 10), 'Colete')\n",
    "reward2 = Reward(random.randint(0, 10), random.randint(0, 10), 'Bala')\n",
    "reward3 = Reward(random.randint(0, 10), random.randint(0, 10), 'Alcool')\n",
    "reward4 = Reward(random.randint(0, 10), random.randint(0, 10), 'Gasolina')\n",
    "rewards = [reward1, reward2, reward3, reward4, reward5]"
   ]
  },
  {
   "cell_type": "code",
   "execution_count": 713,
   "metadata": {},
   "outputs": [
    {
     "name": "stdout",
     "output_type": "stream",
     "text": [
      "y: 4, x: 5, name:Arma\n",
      "y: 8, x: 3, name:Bala\n",
      "y: 5, x: 2, name:Alcool\n",
      "y: 4, x: 4, name:Gasolina\n",
      "y: 10, x: 8, name:Colete\n"
     ]
    }
   ],
   "source": [
    "#Check_reward(r1, rewards)\n",
    "#rewards\n",
    "\n",
    "for rew in rewards:\n",
    "    print('y: {}, x: {}, name:{}'.format(rew.y, rew.x, rew.name))"
   ]
  },
  {
   "cell_type": "code",
   "execution_count": 714,
   "metadata": {},
   "outputs": [
    {
     "data": {
      "text/plain": [
       "'<X: 5, Y: 5>'"
      ]
     },
     "execution_count": 714,
     "metadata": {},
     "output_type": "execute_result"
    }
   ],
   "source": [
    "r1 = Robo(5, 5)\n",
    "str(r1)"
   ]
  },
  {
   "cell_type": "code",
   "execution_count": 684,
   "metadata": {},
   "outputs": [
    {
     "name": "stdout",
     "output_type": "stream",
     "text": [
      "y: 6\n",
      " x: 5\n"
     ]
    },
    {
     "data": {
      "text/plain": [
       "False"
      ]
     },
     "execution_count": 684,
     "metadata": {},
     "output_type": "execute_result"
    }
   ],
   "source": [
    "r1.move_up()"
   ]
  },
  {
   "cell_type": "code",
   "execution_count": 688,
   "metadata": {},
   "outputs": [
    {
     "name": "stdout",
     "output_type": "stream",
     "text": [
      "y: 6\n",
      " x: 9\n"
     ]
    },
    {
     "data": {
      "text/plain": [
       "False"
      ]
     },
     "execution_count": 688,
     "metadata": {},
     "output_type": "execute_result"
    }
   ],
   "source": [
    "r1.move_right()"
   ]
  },
  {
   "cell_type": "code",
   "execution_count": 672,
   "metadata": {},
   "outputs": [
    {
     "name": "stdout",
     "output_type": "stream",
     "text": [
      "y: 1\n",
      " x: 1\n"
     ]
    },
    {
     "data": {
      "text/plain": [
       "False"
      ]
     },
     "execution_count": 672,
     "metadata": {},
     "output_type": "execute_result"
    }
   ],
   "source": [
    "r1.move_down()"
   ]
  },
  {
   "cell_type": "code",
   "execution_count": 666,
   "metadata": {},
   "outputs": [
    {
     "name": "stdout",
     "output_type": "stream",
     "text": [
      "Movimento proibido!\n",
      "y: 3\n",
      " x: 0\n"
     ]
    }
   ],
   "source": [
    "r1.move_left()"
   ]
  },
  {
   "cell_type": "code",
   "execution_count": 670,
   "metadata": {},
   "outputs": [
    {
     "name": "stdout",
     "output_type": "stream",
     "text": [
      "1 3\n"
     ]
    }
   ],
   "source": [
    "print(r1.x, r1.y)"
   ]
  }
 ],
 "metadata": {
  "kernelspec": {
   "display_name": "Python 3",
   "language": "python",
   "name": "python3"
  },
  "language_info": {
   "codemirror_mode": {
    "name": "ipython",
    "version": 3
   },
   "file_extension": ".py",
   "mimetype": "text/x-python",
   "name": "python",
   "nbconvert_exporter": "python",
   "pygments_lexer": "ipython3",
   "version": "3.6.4"
  }
 },
 "nbformat": 4,
 "nbformat_minor": 2
}
